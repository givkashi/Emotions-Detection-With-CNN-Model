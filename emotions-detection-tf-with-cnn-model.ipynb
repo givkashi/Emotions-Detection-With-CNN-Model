{
 "cells": [
  {
   "cell_type": "code",
   "execution_count": 1,
   "id": "crazy-exclusive",
   "metadata": {
    "execution": {
     "iopub.execute_input": "2021-10-01T13:23:55.899249Z",
     "iopub.status.busy": "2021-10-01T13:23:55.897625Z",
     "iopub.status.idle": "2021-10-01T13:23:55.906587Z",
     "shell.execute_reply": "2021-10-01T13:23:55.906046Z",
     "shell.execute_reply.started": "2021-10-01T13:09:08.233786Z"
    },
    "papermill": {
     "duration": 0.035829,
     "end_time": "2021-10-01T13:23:55.906713",
     "exception": false,
     "start_time": "2021-10-01T13:23:55.870884",
     "status": "completed"
    },
    "tags": []
   },
   "outputs": [],
   "source": [
    "train_path = '../input/emotions/images/train'\n",
    "valid_path = '../input/emotions/images/validation'"
   ]
  },
  {
   "cell_type": "code",
   "execution_count": 2,
   "id": "vocational-specific",
   "metadata": {
    "execution": {
     "iopub.execute_input": "2021-10-01T13:23:55.953600Z",
     "iopub.status.busy": "2021-10-01T13:23:55.953050Z",
     "iopub.status.idle": "2021-10-01T13:24:00.851930Z",
     "shell.execute_reply": "2021-10-01T13:24:00.850974Z",
     "shell.execute_reply.started": "2021-10-01T13:09:11.262198Z"
    },
    "papermill": {
     "duration": 4.924427,
     "end_time": "2021-10-01T13:24:00.852076",
     "exception": false,
     "start_time": "2021-10-01T13:23:55.927649",
     "status": "completed"
    },
    "tags": []
   },
   "outputs": [],
   "source": [
    "from keras.preprocessing.image import ImageDataGenerator\n",
    "from keras.preprocessing.image import img_to_array\n",
    "from keras.utils import to_categorical\n",
    "import keras\n",
    "from keras.models import Sequential\n",
    "from keras.layers import Dense, Activation\n",
    "from tensorflow.keras.applications.vgg16 import preprocess_input, VGG16\n",
    "from tensorflow.keras.models import Sequential\n",
    "from tensorflow.keras.layers import InputLayer, BatchNormalization, Dropout, Flatten, Dense, Activation, MaxPool2D, Conv2D\n",
    "from tensorflow.keras.callbacks import ModelCheckpoint,EarlyStopping\n",
    "from keras.metrics import Recall,Precision"
   ]
  },
  {
   "cell_type": "markdown",
   "id": "perceived-empty",
   "metadata": {
    "papermill": {
     "duration": 0.021268,
     "end_time": "2021-10-01T13:24:00.894415",
     "exception": false,
     "start_time": "2021-10-01T13:24:00.873147",
     "status": "completed"
    },
    "tags": []
   },
   "source": [
    "# ImageDataGenerator"
   ]
  },
  {
   "cell_type": "code",
   "execution_count": 3,
   "id": "systematic-geneva",
   "metadata": {
    "execution": {
     "iopub.execute_input": "2021-10-01T13:24:00.942862Z",
     "iopub.status.busy": "2021-10-01T13:24:00.942141Z",
     "iopub.status.idle": "2021-10-01T13:24:12.292494Z",
     "shell.execute_reply": "2021-10-01T13:24:12.292017Z",
     "shell.execute_reply.started": "2021-10-01T13:09:23.621790Z"
    },
    "papermill": {
     "duration": 11.376804,
     "end_time": "2021-10-01T13:24:12.292627",
     "exception": false,
     "start_time": "2021-10-01T13:24:00.915823",
     "status": "completed"
    },
    "tags": []
   },
   "outputs": [
    {
     "name": "stdout",
     "output_type": "stream",
     "text": [
      "Found 28821 images belonging to 7 classes.\n",
      "Found 7066 images belonging to 7 classes.\n"
     ]
    }
   ],
   "source": [
    "size=48\n",
    "\n",
    "train_datagen = ImageDataGenerator(\n",
    "    rescale = 1./255, \n",
    "    shear_range = 0.2, \n",
    "    zoom_range = 0.2,\n",
    "    horizontal_flip = True\n",
    ")\n",
    "test_datagen = ImageDataGenerator(rescale=1/255)\n",
    "\n",
    "train_generator = train_datagen.flow_from_directory(\n",
    "    train_path, \n",
    "    target_size = (size, size),\n",
    "    batch_size = 28821,\n",
    "    class_mode = \"sparse\",\n",
    "    color_mode='grayscale',\n",
    ")\n",
    "\n",
    "validation_generator = test_datagen.flow_from_directory(\n",
    "    valid_path,\n",
    "    target_size = (size, size),\n",
    "    batch_size = 7066, \n",
    "    class_mode = \"sparse\",\n",
    "    color_mode='grayscale',\n",
    ")"
   ]
  },
  {
   "cell_type": "code",
   "execution_count": 4,
   "id": "personal-storage",
   "metadata": {
    "execution": {
     "iopub.execute_input": "2021-10-01T13:24:12.344121Z",
     "iopub.status.busy": "2021-10-01T13:24:12.343220Z",
     "iopub.status.idle": "2021-10-01T13:24:12.346106Z",
     "shell.execute_reply": "2021-10-01T13:24:12.345678Z",
     "shell.execute_reply.started": "2021-10-01T13:09:39.466603Z"
    },
    "papermill": {
     "duration": 0.030505,
     "end_time": "2021-10-01T13:24:12.346221",
     "exception": false,
     "start_time": "2021-10-01T13:24:12.315716",
     "status": "completed"
    },
    "tags": []
   },
   "outputs": [],
   "source": [
    "image_size = 48\n",
    "num_channels = 1\n",
    "num_features = image_size * image_size * num_channels\n",
    "num_classes = 7"
   ]
  },
  {
   "cell_type": "code",
   "execution_count": 5,
   "id": "bottom-browse",
   "metadata": {
    "execution": {
     "iopub.execute_input": "2021-10-01T13:24:12.393412Z",
     "iopub.status.busy": "2021-10-01T13:24:12.392741Z",
     "iopub.status.idle": "2021-10-01T13:25:42.435097Z",
     "shell.execute_reply": "2021-10-01T13:25:42.434159Z"
    },
    "papermill": {
     "duration": 90.066694,
     "end_time": "2021-10-01T13:25:42.435254",
     "exception": false,
     "start_time": "2021-10-01T13:24:12.368560",
     "status": "completed"
    },
    "tags": []
   },
   "outputs": [],
   "source": [
    "X_train, y_train = next(train_generator)\n",
    "X_validation, y_validation = next(validation_generator)"
   ]
  },
  {
   "cell_type": "code",
   "execution_count": 6,
   "id": "received-wednesday",
   "metadata": {
    "execution": {
     "iopub.execute_input": "2021-10-01T13:25:42.483364Z",
     "iopub.status.busy": "2021-10-01T13:25:42.482775Z",
     "iopub.status.idle": "2021-10-01T13:25:42.487289Z",
     "shell.execute_reply": "2021-10-01T13:25:42.487714Z"
    },
    "papermill": {
     "duration": 0.030593,
     "end_time": "2021-10-01T13:25:42.487849",
     "exception": false,
     "start_time": "2021-10-01T13:25:42.457256",
     "status": "completed"
    },
    "tags": []
   },
   "outputs": [
    {
     "name": "stdout",
     "output_type": "stream",
     "text": [
      "Train data shape: (28821, 2304)\n",
      "validation  data shape: (7066, 2304)\n"
     ]
    }
   ],
   "source": [
    "X_train = X_train.reshape([-1, num_features])\n",
    "X_validation  = X_validation.reshape([-1, num_features])\n",
    "\n",
    "\n",
    "print('Train data shape: {}'.format(X_train.shape))\n",
    "print('validation  data shape: {}'.format(X_validation.shape))"
   ]
  },
  {
   "cell_type": "code",
   "execution_count": 7,
   "id": "august-raise",
   "metadata": {
    "execution": {
     "iopub.execute_input": "2021-10-01T13:25:42.536991Z",
     "iopub.status.busy": "2021-10-01T13:25:42.535020Z",
     "iopub.status.idle": "2021-10-01T13:25:42.540941Z",
     "shell.execute_reply": "2021-10-01T13:25:42.540330Z"
    },
    "papermill": {
     "duration": 0.03117,
     "end_time": "2021-10-01T13:25:42.541079",
     "exception": false,
     "start_time": "2021-10-01T13:25:42.509909",
     "status": "completed"
    },
    "tags": []
   },
   "outputs": [
    {
     "name": "stdout",
     "output_type": "stream",
     "text": [
      "(28821, 7)\n",
      "(7066, 7)\n"
     ]
    }
   ],
   "source": [
    "y_train = keras.utils.to_categorical(y_train, num_classes)\n",
    "y_validation = keras.utils.to_categorical(y_validation,  num_classes)\n",
    "\n",
    "print(y_train.shape)\n",
    "print(y_validation.shape)"
   ]
  },
  {
   "cell_type": "code",
   "execution_count": 8,
   "id": "seventh-wallace",
   "metadata": {
    "execution": {
     "iopub.execute_input": "2021-10-01T13:25:44.244794Z",
     "iopub.status.busy": "2021-10-01T13:25:44.244136Z",
     "iopub.status.idle": "2021-10-01T13:25:44.249111Z",
     "shell.execute_reply": "2021-10-01T13:25:44.248664Z"
    },
    "papermill": {
     "duration": 1.683736,
     "end_time": "2021-10-01T13:25:44.249228",
     "exception": false,
     "start_time": "2021-10-01T13:25:42.565492",
     "status": "completed"
    },
    "tags": []
   },
   "outputs": [
    {
     "name": "stdout",
     "output_type": "stream",
     "text": [
      "Found GPU at: /device:GPU:0\n"
     ]
    }
   ],
   "source": [
    "\n",
    "import tensorflow as tf\n",
    "device_name = tf.test.gpu_device_name()\n",
    "if device_name != '/device:GPU:0':\n",
    "  raise SystemError('GPU device not found')\n",
    "print('Found GPU at: {}'.format(device_name))"
   ]
  },
  {
   "cell_type": "markdown",
   "id": "regular-figure",
   "metadata": {
    "papermill": {
     "duration": 0.02242,
     "end_time": "2021-10-01T13:25:44.294637",
     "exception": false,
     "start_time": "2021-10-01T13:25:44.272217",
     "status": "completed"
    },
    "tags": []
   },
   "source": [
    "# model1"
   ]
  },
  {
   "cell_type": "code",
   "execution_count": 9,
   "id": "solar-mailing",
   "metadata": {
    "execution": {
     "iopub.execute_input": "2021-10-01T13:25:44.346673Z",
     "iopub.status.busy": "2021-10-01T13:25:44.346082Z",
     "iopub.status.idle": "2021-10-01T13:25:44.761365Z",
     "shell.execute_reply": "2021-10-01T13:25:44.760720Z"
    },
    "papermill": {
     "duration": 0.444282,
     "end_time": "2021-10-01T13:25:44.761527",
     "exception": false,
     "start_time": "2021-10-01T13:25:44.317245",
     "status": "completed"
    },
    "tags": []
   },
   "outputs": [
    {
     "name": "stdout",
     "output_type": "stream",
     "text": [
      "Model: \"sequential\"\n",
      "_________________________________________________________________\n",
      "Layer (type)                 Output Shape              Param #   \n",
      "=================================================================\n",
      "dense (Dense)                (None, 100)               230500    \n",
      "_________________________________________________________________\n",
      "batch_normalization (BatchNo (None, 100)               400       \n",
      "_________________________________________________________________\n",
      "activation (Activation)      (None, 100)               0         \n",
      "_________________________________________________________________\n",
      "dropout (Dropout)            (None, 100)               0         \n",
      "_________________________________________________________________\n",
      "dense_1 (Dense)              (None, 100)               10100     \n",
      "_________________________________________________________________\n",
      "batch_normalization_1 (Batch (None, 100)               400       \n",
      "_________________________________________________________________\n",
      "activation_1 (Activation)    (None, 100)               0         \n",
      "_________________________________________________________________\n",
      "dropout_1 (Dropout)          (None, 100)               0         \n",
      "_________________________________________________________________\n",
      "dense_2 (Dense)              (None, 100)               10100     \n",
      "_________________________________________________________________\n",
      "batch_normalization_2 (Batch (None, 100)               400       \n",
      "_________________________________________________________________\n",
      "activation_2 (Activation)    (None, 100)               0         \n",
      "_________________________________________________________________\n",
      "dropout_2 (Dropout)          (None, 100)               0         \n",
      "_________________________________________________________________\n",
      "dense_3 (Dense)              (None, 7)                 707       \n",
      "=================================================================\n",
      "Total params: 252,607\n",
      "Trainable params: 252,007\n",
      "Non-trainable params: 600\n",
      "_________________________________________________________________\n"
     ]
    }
   ],
   "source": [
    "model1 = Sequential()\n",
    "\n",
    "# First Hidden Layer\n",
    "model1.add(Dense(units=100, input_shape=(num_features,)))\n",
    "model1.add(BatchNormalization())\n",
    "model1.add(Activation(activation='relu'))\n",
    "model1.add(Dropout(0.2))\n",
    "\n",
    "model1.add(Dense(units=100))\n",
    "model1.add(BatchNormalization()) \n",
    "model1.add(Activation(activation='relu'))\n",
    "model1.add(Dropout(0.2))\n",
    "\n",
    "model1.add(Dense(units=100))\n",
    "model1.add(BatchNormalization()) \n",
    "model1.add(Activation(activation='relu'))\n",
    "model1.add(Dropout(0.2))\n",
    "# Output Layer\n",
    "model1.add(Dense(units=num_classes, activation='softmax'))\n",
    "\n",
    "# print model\n",
    "model1.summary()"
   ]
  },
  {
   "cell_type": "code",
   "execution_count": 10,
   "id": "accessible-crowd",
   "metadata": {
    "execution": {
     "iopub.execute_input": "2021-10-01T13:25:44.818783Z",
     "iopub.status.busy": "2021-10-01T13:25:44.816016Z",
     "iopub.status.idle": "2021-10-01T13:25:44.824640Z",
     "shell.execute_reply": "2021-10-01T13:25:44.824060Z"
    },
    "papermill": {
     "duration": 0.039119,
     "end_time": "2021-10-01T13:25:44.824753",
     "exception": false,
     "start_time": "2021-10-01T13:25:44.785634",
     "status": "completed"
    },
    "tags": []
   },
   "outputs": [],
   "source": [
    "optimizer = keras.optimizers.Adam(lr=0.02, decay=1e-6)\n",
    "model1.compile(optimizer=optimizer, loss='categorical_crossentropy', metrics=['accuracy'])"
   ]
  },
  {
   "cell_type": "code",
   "execution_count": 11,
   "id": "ranking-georgia",
   "metadata": {
    "execution": {
     "iopub.execute_input": "2021-10-01T13:25:44.874295Z",
     "iopub.status.busy": "2021-10-01T13:25:44.873820Z",
     "iopub.status.idle": "2021-10-01T13:25:44.877004Z",
     "shell.execute_reply": "2021-10-01T13:25:44.877395Z"
    },
    "papermill": {
     "duration": 0.029751,
     "end_time": "2021-10-01T13:25:44.877519",
     "exception": false,
     "start_time": "2021-10-01T13:25:44.847768",
     "status": "completed"
    },
    "tags": []
   },
   "outputs": [],
   "source": [
    "checkpoint = ModelCheckpoint(\"./model1.h5\",monitor = \"val_accuracy\",save_best_only = True,verbose=1)"
   ]
  },
  {
   "cell_type": "code",
   "execution_count": 12,
   "id": "miniature-lecture",
   "metadata": {
    "execution": {
     "iopub.execute_input": "2021-10-01T13:25:44.928438Z",
     "iopub.status.busy": "2021-10-01T13:25:44.927825Z",
     "iopub.status.idle": "2021-10-01T13:26:15.222143Z",
     "shell.execute_reply": "2021-10-01T13:26:15.219697Z"
    },
    "papermill": {
     "duration": 30.321797,
     "end_time": "2021-10-01T13:26:15.222298",
     "exception": false,
     "start_time": "2021-10-01T13:25:44.900501",
     "status": "completed"
    },
    "tags": []
   },
   "outputs": [
    {
     "name": "stdout",
     "output_type": "stream",
     "text": [
      "Epoch 1/40\n",
      "113/113 [==============================] - 3s 11ms/step - loss: 1.9025 - accuracy: 0.2372 - val_loss: 1.8707 - val_accuracy: 0.2539\n",
      "\n",
      "Epoch 00001: val_accuracy improved from -inf to 0.25389, saving model to ./model1.h5\n",
      "Epoch 2/40\n",
      "113/113 [==============================] - 1s 6ms/step - loss: 1.7182 - accuracy: 0.3118 - val_loss: 1.7668 - val_accuracy: 0.2246\n",
      "\n",
      "Epoch 00002: val_accuracy did not improve from 0.25389\n",
      "Epoch 3/40\n",
      "113/113 [==============================] - 1s 7ms/step - loss: 1.6723 - accuracy: 0.3352 - val_loss: 1.7342 - val_accuracy: 0.2849\n",
      "\n",
      "Epoch 00003: val_accuracy improved from 0.25389 to 0.28489, saving model to ./model1.h5\n",
      "Epoch 4/40\n",
      "113/113 [==============================] - 1s 6ms/step - loss: 1.6402 - accuracy: 0.3519 - val_loss: 1.7156 - val_accuracy: 0.2853\n",
      "\n",
      "Epoch 00004: val_accuracy improved from 0.28489 to 0.28531, saving model to ./model1.h5\n",
      "Epoch 5/40\n",
      "113/113 [==============================] - 1s 6ms/step - loss: 1.6182 - accuracy: 0.3616 - val_loss: 1.6727 - val_accuracy: 0.3351\n",
      "\n",
      "Epoch 00005: val_accuracy improved from 0.28531 to 0.33513, saving model to ./model1.h5\n",
      "Epoch 6/40\n",
      "113/113 [==============================] - 1s 6ms/step - loss: 1.6008 - accuracy: 0.3695 - val_loss: 1.6278 - val_accuracy: 0.3596\n",
      "\n",
      "Epoch 00006: val_accuracy improved from 0.33513 to 0.35961, saving model to ./model1.h5\n",
      "Epoch 7/40\n",
      "113/113 [==============================] - 1s 6ms/step - loss: 1.5957 - accuracy: 0.3743 - val_loss: 1.6055 - val_accuracy: 0.3695\n",
      "\n",
      "Epoch 00007: val_accuracy improved from 0.35961 to 0.36952, saving model to ./model1.h5\n",
      "Epoch 8/40\n",
      "113/113 [==============================] - 1s 6ms/step - loss: 1.5705 - accuracy: 0.3861 - val_loss: 1.6538 - val_accuracy: 0.3459\n",
      "\n",
      "Epoch 00008: val_accuracy did not improve from 0.36952\n",
      "Epoch 9/40\n",
      "113/113 [==============================] - 1s 6ms/step - loss: 1.5597 - accuracy: 0.3883 - val_loss: 1.6375 - val_accuracy: 0.3671\n",
      "\n",
      "Epoch 00009: val_accuracy did not improve from 0.36952\n",
      "Epoch 10/40\n",
      "113/113 [==============================] - 1s 6ms/step - loss: 1.5519 - accuracy: 0.3958 - val_loss: 1.6693 - val_accuracy: 0.3295\n",
      "\n",
      "Epoch 00010: val_accuracy did not improve from 0.36952\n",
      "Epoch 11/40\n",
      "113/113 [==============================] - 1s 6ms/step - loss: 1.5444 - accuracy: 0.4005 - val_loss: 1.6076 - val_accuracy: 0.3667\n",
      "\n",
      "Epoch 00011: val_accuracy did not improve from 0.36952\n",
      "Epoch 12/40\n",
      "113/113 [==============================] - 1s 6ms/step - loss: 1.5328 - accuracy: 0.4062 - val_loss: 1.7200 - val_accuracy: 0.2760\n",
      "\n",
      "Epoch 00012: val_accuracy did not improve from 0.36952\n",
      "Epoch 13/40\n",
      "113/113 [==============================] - 1s 6ms/step - loss: 1.5242 - accuracy: 0.4127 - val_loss: 1.6323 - val_accuracy: 0.3551\n",
      "\n",
      "Epoch 00013: val_accuracy did not improve from 0.36952\n",
      "Epoch 14/40\n",
      "113/113 [==============================] - 1s 6ms/step - loss: 1.5196 - accuracy: 0.4067 - val_loss: 1.6982 - val_accuracy: 0.3132\n",
      "\n",
      "Epoch 00014: val_accuracy did not improve from 0.36952\n",
      "Epoch 15/40\n",
      "113/113 [==============================] - 1s 6ms/step - loss: 1.5024 - accuracy: 0.4131 - val_loss: 1.6548 - val_accuracy: 0.3404\n",
      "\n",
      "Epoch 00015: val_accuracy did not improve from 0.36952\n",
      "Epoch 16/40\n",
      "113/113 [==============================] - 1s 6ms/step - loss: 1.4942 - accuracy: 0.4186 - val_loss: 1.6298 - val_accuracy: 0.3589\n",
      "\n",
      "Epoch 00016: val_accuracy did not improve from 0.36952\n",
      "Epoch 17/40\n",
      "113/113 [==============================] - 1s 6ms/step - loss: 1.4813 - accuracy: 0.4296 - val_loss: 1.6244 - val_accuracy: 0.3530\n",
      "\n",
      "Epoch 00017: val_accuracy did not improve from 0.36952\n",
      "Epoch 18/40\n",
      "113/113 [==============================] - 1s 6ms/step - loss: 1.4713 - accuracy: 0.4357 - val_loss: 1.7022 - val_accuracy: 0.3190\n",
      "\n",
      "Epoch 00018: val_accuracy did not improve from 0.36952\n",
      "Epoch 19/40\n",
      "113/113 [==============================] - 1s 6ms/step - loss: 1.4658 - accuracy: 0.4296 - val_loss: 1.6164 - val_accuracy: 0.3711\n",
      "\n",
      "Epoch 00019: val_accuracy improved from 0.36952 to 0.37107, saving model to ./model1.h5\n",
      "Epoch 20/40\n",
      "113/113 [==============================] - 1s 7ms/step - loss: 1.4488 - accuracy: 0.4378 - val_loss: 1.6511 - val_accuracy: 0.3464\n",
      "\n",
      "Epoch 00020: val_accuracy did not improve from 0.37107\n",
      "Epoch 21/40\n",
      "113/113 [==============================] - 1s 6ms/step - loss: 1.4510 - accuracy: 0.4397 - val_loss: 1.7066 - val_accuracy: 0.3214\n",
      "\n",
      "Epoch 00021: val_accuracy did not improve from 0.37107\n",
      "Epoch 22/40\n",
      "113/113 [==============================] - 1s 6ms/step - loss: 1.4387 - accuracy: 0.4460 - val_loss: 1.6842 - val_accuracy: 0.3356\n",
      "\n",
      "Epoch 00022: val_accuracy did not improve from 0.37107\n",
      "Epoch 23/40\n",
      "113/113 [==============================] - 1s 6ms/step - loss: 1.4205 - accuracy: 0.4525 - val_loss: 1.7833 - val_accuracy: 0.2928\n",
      "\n",
      "Epoch 00023: val_accuracy did not improve from 0.37107\n",
      "Epoch 24/40\n",
      "113/113 [==============================] - 1s 6ms/step - loss: 1.4308 - accuracy: 0.4494 - val_loss: 1.6127 - val_accuracy: 0.3808\n",
      "\n",
      "Epoch 00024: val_accuracy improved from 0.37107 to 0.38084, saving model to ./model1.h5\n",
      "Epoch 25/40\n",
      "113/113 [==============================] - 1s 6ms/step - loss: 1.4088 - accuracy: 0.4574 - val_loss: 1.6365 - val_accuracy: 0.3547\n",
      "\n",
      "Epoch 00025: val_accuracy did not improve from 0.38084\n",
      "Epoch 26/40\n",
      "113/113 [==============================] - 1s 6ms/step - loss: 1.4130 - accuracy: 0.4617 - val_loss: 1.6615 - val_accuracy: 0.3561\n",
      "\n",
      "Epoch 00026: val_accuracy did not improve from 0.38084\n",
      "Epoch 27/40\n",
      "113/113 [==============================] - 1s 6ms/step - loss: 1.4028 - accuracy: 0.4574 - val_loss: 1.6952 - val_accuracy: 0.3133\n",
      "\n",
      "Epoch 00027: val_accuracy did not improve from 0.38084\n",
      "Epoch 28/40\n",
      "113/113 [==============================] - 1s 6ms/step - loss: 1.3931 - accuracy: 0.4621 - val_loss: 1.6552 - val_accuracy: 0.3702\n",
      "\n",
      "Epoch 00028: val_accuracy did not improve from 0.38084\n",
      "Epoch 29/40\n",
      "113/113 [==============================] - 1s 6ms/step - loss: 1.3911 - accuracy: 0.4669 - val_loss: 1.7063 - val_accuracy: 0.3075\n",
      "\n",
      "Epoch 00029: val_accuracy did not improve from 0.38084\n",
      "Epoch 30/40\n",
      "113/113 [==============================] - 1s 6ms/step - loss: 1.3854 - accuracy: 0.4682 - val_loss: 1.6350 - val_accuracy: 0.3691\n",
      "\n",
      "Epoch 00030: val_accuracy did not improve from 0.38084\n",
      "Epoch 31/40\n",
      "113/113 [==============================] - 1s 6ms/step - loss: 1.3763 - accuracy: 0.4732 - val_loss: 1.6269 - val_accuracy: 0.3769\n",
      "\n",
      "Epoch 00031: val_accuracy did not improve from 0.38084\n",
      "Epoch 32/40\n",
      "113/113 [==============================] - 1s 6ms/step - loss: 1.3643 - accuracy: 0.4738 - val_loss: 1.7001 - val_accuracy: 0.3136\n",
      "\n",
      "Epoch 00032: val_accuracy did not improve from 0.38084\n",
      "Epoch 33/40\n",
      "113/113 [==============================] - 1s 8ms/step - loss: 1.3614 - accuracy: 0.4815 - val_loss: 1.6307 - val_accuracy: 0.3639\n",
      "\n",
      "Epoch 00033: val_accuracy did not improve from 0.38084\n",
      "Epoch 34/40\n",
      "113/113 [==============================] - 1s 6ms/step - loss: 1.3473 - accuracy: 0.4828 - val_loss: 1.6144 - val_accuracy: 0.3791\n",
      "\n",
      "Epoch 00034: val_accuracy did not improve from 0.38084\n",
      "Epoch 35/40\n",
      "113/113 [==============================] - 1s 7ms/step - loss: 1.3504 - accuracy: 0.4847 - val_loss: 1.6799 - val_accuracy: 0.3630\n",
      "\n",
      "Epoch 00035: val_accuracy did not improve from 0.38084\n",
      "Epoch 36/40\n",
      "113/113 [==============================] - 1s 7ms/step - loss: 1.3457 - accuracy: 0.4853 - val_loss: 1.8302 - val_accuracy: 0.2821\n",
      "\n",
      "Epoch 00036: val_accuracy did not improve from 0.38084\n",
      "Epoch 37/40\n",
      "113/113 [==============================] - 1s 6ms/step - loss: 1.3455 - accuracy: 0.4875 - val_loss: 1.8229 - val_accuracy: 0.3122\n",
      "\n",
      "Epoch 00037: val_accuracy did not improve from 0.38084\n",
      "Epoch 38/40\n",
      "113/113 [==============================] - 1s 6ms/step - loss: 1.3336 - accuracy: 0.4879 - val_loss: 1.6865 - val_accuracy: 0.3324\n",
      "\n",
      "Epoch 00038: val_accuracy did not improve from 0.38084\n",
      "Epoch 39/40\n",
      "113/113 [==============================] - 1s 6ms/step - loss: 1.3112 - accuracy: 0.4998 - val_loss: 1.9984 - val_accuracy: 0.2509\n",
      "\n",
      "Epoch 00039: val_accuracy did not improve from 0.38084\n",
      "Epoch 40/40\n",
      "113/113 [==============================] - 1s 6ms/step - loss: 1.3237 - accuracy: 0.4931 - val_loss: 1.6637 - val_accuracy: 0.3719\n",
      "\n",
      "Epoch 00040: val_accuracy did not improve from 0.38084\n"
     ]
    }
   ],
   "source": [
    "num_train=28821\n",
    "history =model1.fit(X_train[:num_train], y_train[:num_train],\n",
    "          batch_size=256,\n",
    "          epochs=40,\n",
    "          validation_data=(X_validation[:], y_validation[:]),\n",
    "          callbacks = [checkpoint],verbose=1)"
   ]
  },
  {
   "cell_type": "markdown",
   "id": "wired-grace",
   "metadata": {
    "papermill": {
     "duration": 0.147374,
     "end_time": "2021-10-01T13:26:15.521140",
     "exception": false,
     "start_time": "2021-10-01T13:26:15.373766",
     "status": "completed"
    },
    "tags": []
   },
   "source": [
    "# model2"
   ]
  },
  {
   "cell_type": "code",
   "execution_count": 13,
   "id": "confidential-oklahoma",
   "metadata": {
    "execution": {
     "iopub.execute_input": "2021-10-01T13:26:15.824757Z",
     "iopub.status.busy": "2021-10-01T13:26:15.824131Z",
     "iopub.status.idle": "2021-10-01T13:26:16.249365Z",
     "shell.execute_reply": "2021-10-01T13:26:16.248399Z",
     "shell.execute_reply.started": "2021-10-01T13:09:42.080720Z"
    },
    "papermill": {
     "duration": 0.580468,
     "end_time": "2021-10-01T13:26:16.249530",
     "exception": false,
     "start_time": "2021-10-01T13:26:15.669062",
     "status": "completed"
    },
    "tags": []
   },
   "outputs": [
    {
     "name": "stdout",
     "output_type": "stream",
     "text": [
      "Tensorflow version: 2.4.1\n"
     ]
    }
   ],
   "source": [
    "import numpy as np\n",
    "import seaborn as sns\n",
    "import matplotlib.pyplot as plt\n",
    "import os\n",
    "from tensorflow.keras.preprocessing.image import ImageDataGenerator\n",
    "from tensorflow.keras.layers import Dense, Input, Dropout,Flatten, Conv2D\n",
    "from tensorflow.keras.layers import BatchNormalization, Activation, MaxPooling2D\n",
    "from tensorflow.keras.models import Model, Sequential\n",
    "from tensorflow.keras.optimizers import Adam\n",
    "from tensorflow.keras.callbacks import ModelCheckpoint, ReduceLROnPlateau\n",
    "from tensorflow.keras.utils import plot_model\n",
    "from IPython.display import SVG, Image\n",
    "import keras\n",
    "import tensorflow as tf\n",
    "print(\"Tensorflow version:\", tf.__version__)"
   ]
  },
  {
   "cell_type": "code",
   "execution_count": 14,
   "id": "frozen-bibliography",
   "metadata": {
    "execution": {
     "iopub.execute_input": "2021-10-01T13:26:16.564701Z",
     "iopub.status.busy": "2021-10-01T13:26:16.564049Z",
     "iopub.status.idle": "2021-10-01T13:26:18.623004Z",
     "shell.execute_reply": "2021-10-01T13:26:18.622556Z",
     "shell.execute_reply.started": "2021-10-01T13:09:45.670709Z"
    },
    "papermill": {
     "duration": 2.218488,
     "end_time": "2021-10-01T13:26:18.623119",
     "exception": false,
     "start_time": "2021-10-01T13:26:16.404631",
     "status": "completed"
    },
    "tags": []
   },
   "outputs": [
    {
     "name": "stdout",
     "output_type": "stream",
     "text": [
      "Found 28821 images belonging to 7 classes.\n",
      "Found 7066 images belonging to 7 classes.\n"
     ]
    }
   ],
   "source": [
    "img_size = 48\n",
    "batch_size = 64\n",
    "datagen_train = ImageDataGenerator(horizontal_flip=True)\n",
    "train_generator = datagen_train.flow_from_directory(train_path,\n",
    "                                                    target_size=(img_size,img_size),\n",
    "                                                    color_mode=\"grayscale\",\n",
    "                                                    batch_size=batch_size,\n",
    "                                                    class_mode='categorical',\n",
    "                                                    shuffle=True)\n",
    "datagen_validation = ImageDataGenerator(horizontal_flip=True)\n",
    "validation_generator = datagen_validation.flow_from_directory(valid_path,\n",
    "                                                    target_size=(img_size,img_size),\n",
    "                                                    color_mode=\"grayscale\",\n",
    "                                                    batch_size=batch_size,\n",
    "                                                    class_mode='categorical',\n",
    "                                                    shuffle=False)"
   ]
  },
  {
   "cell_type": "code",
   "execution_count": 15,
   "id": "manual-adjustment",
   "metadata": {
    "execution": {
     "iopub.execute_input": "2021-10-01T13:26:18.957397Z",
     "iopub.status.busy": "2021-10-01T13:26:18.956533Z",
     "iopub.status.idle": "2021-10-01T13:26:19.155019Z",
     "shell.execute_reply": "2021-10-01T13:26:19.154492Z"
    },
    "papermill": {
     "duration": 0.370963,
     "end_time": "2021-10-01T13:26:19.155159",
     "exception": false,
     "start_time": "2021-10-01T13:26:18.784196",
     "status": "completed"
    },
    "tags": []
   },
   "outputs": [
    {
     "name": "stdout",
     "output_type": "stream",
     "text": [
      "Model: \"sequential_1\"\n",
      "_________________________________________________________________\n",
      "Layer (type)                 Output Shape              Param #   \n",
      "=================================================================\n",
      "conv2d (Conv2D)              (None, 48, 48, 64)        640       \n",
      "_________________________________________________________________\n",
      "batch_normalization_3 (Batch (None, 48, 48, 64)        256       \n",
      "_________________________________________________________________\n",
      "activation_3 (Activation)    (None, 48, 48, 64)        0         \n",
      "_________________________________________________________________\n",
      "max_pooling2d (MaxPooling2D) (None, 24, 24, 64)        0         \n",
      "_________________________________________________________________\n",
      "dropout_3 (Dropout)          (None, 24, 24, 64)        0         \n",
      "_________________________________________________________________\n",
      "conv2d_1 (Conv2D)            (None, 24, 24, 128)       204928    \n",
      "_________________________________________________________________\n",
      "batch_normalization_4 (Batch (None, 24, 24, 128)       512       \n",
      "_________________________________________________________________\n",
      "activation_4 (Activation)    (None, 24, 24, 128)       0         \n",
      "_________________________________________________________________\n",
      "max_pooling2d_1 (MaxPooling2 (None, 12, 12, 128)       0         \n",
      "_________________________________________________________________\n",
      "dropout_4 (Dropout)          (None, 12, 12, 128)       0         \n",
      "_________________________________________________________________\n",
      "conv2d_2 (Conv2D)            (None, 12, 12, 512)       590336    \n",
      "_________________________________________________________________\n",
      "batch_normalization_5 (Batch (None, 12, 12, 512)       2048      \n",
      "_________________________________________________________________\n",
      "activation_5 (Activation)    (None, 12, 12, 512)       0         \n",
      "_________________________________________________________________\n",
      "max_pooling2d_2 (MaxPooling2 (None, 6, 6, 512)         0         \n",
      "_________________________________________________________________\n",
      "dropout_5 (Dropout)          (None, 6, 6, 512)         0         \n",
      "_________________________________________________________________\n",
      "conv2d_3 (Conv2D)            (None, 6, 6, 512)         2359808   \n",
      "_________________________________________________________________\n",
      "batch_normalization_6 (Batch (None, 6, 6, 512)         2048      \n",
      "_________________________________________________________________\n",
      "activation_6 (Activation)    (None, 6, 6, 512)         0         \n",
      "_________________________________________________________________\n",
      "max_pooling2d_3 (MaxPooling2 (None, 3, 3, 512)         0         \n",
      "_________________________________________________________________\n",
      "dropout_6 (Dropout)          (None, 3, 3, 512)         0         \n",
      "_________________________________________________________________\n",
      "flatten (Flatten)            (None, 4608)              0         \n",
      "_________________________________________________________________\n",
      "dense_4 (Dense)              (None, 256)               1179904   \n",
      "_________________________________________________________________\n",
      "batch_normalization_7 (Batch (None, 256)               1024      \n",
      "_________________________________________________________________\n",
      "activation_7 (Activation)    (None, 256)               0         \n",
      "_________________________________________________________________\n",
      "dropout_7 (Dropout)          (None, 256)               0         \n",
      "_________________________________________________________________\n",
      "dense_5 (Dense)              (None, 512)               131584    \n",
      "_________________________________________________________________\n",
      "batch_normalization_8 (Batch (None, 512)               2048      \n",
      "_________________________________________________________________\n",
      "activation_8 (Activation)    (None, 512)               0         \n",
      "_________________________________________________________________\n",
      "dropout_8 (Dropout)          (None, 512)               0         \n",
      "_________________________________________________________________\n",
      "dense_6 (Dense)              (None, 7)                 3591      \n",
      "=================================================================\n",
      "Total params: 4,478,727\n",
      "Trainable params: 4,474,759\n",
      "Non-trainable params: 3,968\n",
      "_________________________________________________________________\n"
     ]
    }
   ],
   "source": [
    "\n",
    "model = Sequential()\n",
    "# 1 - Convolution\n",
    "model.add(Conv2D(64,(3,3), padding='same', input_shape=(48, 48,1)))\n",
    "model.add(BatchNormalization())\n",
    "model.add(Activation('relu'))\n",
    "model.add(MaxPooling2D(pool_size=(2, 2)))\n",
    "model.add(Dropout(0.25))\n",
    "# 2nd Convolution layer\n",
    "model.add(Conv2D(128,(5,5), padding='same'))\n",
    "model.add(BatchNormalization())\n",
    "model.add(Activation('relu'))\n",
    "model.add(MaxPooling2D(pool_size=(2, 2)))\n",
    "model.add(Dropout(0.25))\n",
    "# 3rd Convolution layer\n",
    "model.add(Conv2D(512,(3,3), padding='same'))\n",
    "model.add(BatchNormalization())\n",
    "model.add(Activation('relu'))\n",
    "model.add(MaxPooling2D(pool_size=(2, 2)))\n",
    "model.add(Dropout(0.25))\n",
    "# 4th Convolution layer\n",
    "model.add(Conv2D(512,(3,3), padding='same'))\n",
    "model.add(BatchNormalization())\n",
    "model.add(Activation('relu'))\n",
    "model.add(MaxPooling2D(pool_size=(2, 2)))\n",
    "model.add(Dropout(0.25))\n",
    "# Flattening\n",
    "model.add(Flatten())\n",
    "# Fully connected layer 1st layer\n",
    "model.add(Dense(256))\n",
    "model.add(BatchNormalization())\n",
    "model.add(Activation('relu'))\n",
    "model.add(Dropout(0.25))\n",
    "# Fully connected layer 2nd layer\n",
    "model.add(Dense(512))\n",
    "model.add(BatchNormalization())\n",
    "model.add(Activation('relu'))\n",
    "model.add(Dropout(0.25))\n",
    "model.add(Dense(7, activation='softmax'))\n",
    "opt = Adam(lr=0.0005)\n",
    "model.compile(optimizer=opt, loss='categorical_crossentropy', metrics=['accuracy'])\n",
    "model.summary()"
   ]
  },
  {
   "cell_type": "code",
   "execution_count": 16,
   "id": "insured-polyester",
   "metadata": {
    "execution": {
     "iopub.execute_input": "2021-10-01T13:26:19.480523Z",
     "iopub.status.busy": "2021-10-01T13:26:19.479359Z",
     "iopub.status.idle": "2021-10-01T13:26:19.486397Z",
     "shell.execute_reply": "2021-10-01T13:26:19.485959Z"
    },
    "papermill": {
     "duration": 0.174855,
     "end_time": "2021-10-01T13:26:19.486515",
     "exception": false,
     "start_time": "2021-10-01T13:26:19.311660",
     "status": "completed"
    },
    "tags": []
   },
   "outputs": [],
   "source": [
    "optimizer = keras.optimizers.Adam(lr=0.02, decay=1e-6)\n",
    "model.compile(optimizer=optimizer, loss='categorical_crossentropy', metrics=['accuracy'])"
   ]
  },
  {
   "cell_type": "code",
   "execution_count": 17,
   "id": "numerous-feeding",
   "metadata": {
    "execution": {
     "iopub.execute_input": "2021-10-01T13:26:19.810239Z",
     "iopub.status.busy": "2021-10-01T13:26:19.809576Z",
     "iopub.status.idle": "2021-10-01T13:26:19.813953Z",
     "shell.execute_reply": "2021-10-01T13:26:19.813393Z"
    },
    "papermill": {
     "duration": 0.168781,
     "end_time": "2021-10-01T13:26:19.814087",
     "exception": false,
     "start_time": "2021-10-01T13:26:19.645306",
     "status": "completed"
    },
    "tags": []
   },
   "outputs": [],
   "source": [
    "checkpoint2 = ModelCheckpoint(\"./model2.h5\",monitor = \"val_accuracy\",save_best_only = True,verbose=1)"
   ]
  },
  {
   "cell_type": "code",
   "execution_count": 18,
   "id": "cordless-baptist",
   "metadata": {
    "execution": {
     "iopub.execute_input": "2021-10-01T13:26:20.138727Z",
     "iopub.status.busy": "2021-10-01T13:26:20.137893Z",
     "iopub.status.idle": "2021-10-01T13:34:29.995865Z",
     "shell.execute_reply": "2021-10-01T13:34:29.996471Z"
    },
    "papermill": {
     "duration": 490.021828,
     "end_time": "2021-10-01T13:34:29.996676",
     "exception": false,
     "start_time": "2021-10-01T13:26:19.974848",
     "status": "completed"
    },
    "tags": []
   },
   "outputs": [
    {
     "name": "stdout",
     "output_type": "stream",
     "text": [
      "Epoch 1/20\n",
      "450/450 [==============================] - 28s 53ms/step - loss: 2.0881 - accuracy: 0.2330 - val_loss: 2.3070 - val_accuracy: 0.2771\n",
      "\n",
      "Epoch 00001: val_accuracy improved from -inf to 0.27713, saving model to ./model2.h5\n",
      "Epoch 2/20\n",
      "450/450 [==============================] - 29s 64ms/step - loss: 1.5237 - accuracy: 0.4055 - val_loss: 1.7762 - val_accuracy: 0.3673\n",
      "\n",
      "Epoch 00002: val_accuracy improved from 0.27713 to 0.36733, saving model to ./model2.h5\n",
      "Epoch 3/20\n",
      "450/450 [==============================] - 23s 52ms/step - loss: 1.3736 - accuracy: 0.4742 - val_loss: 1.4587 - val_accuracy: 0.4253\n",
      "\n",
      "Epoch 00003: val_accuracy improved from 0.36733 to 0.42528, saving model to ./model2.h5\n",
      "Epoch 4/20\n",
      "450/450 [==============================] - 24s 53ms/step - loss: 1.2921 - accuracy: 0.5045 - val_loss: 1.2857 - val_accuracy: 0.4945\n",
      "\n",
      "Epoch 00004: val_accuracy improved from 0.42528 to 0.49446, saving model to ./model2.h5\n",
      "Epoch 5/20\n",
      "450/450 [==============================] - 24s 52ms/step - loss: 1.2455 - accuracy: 0.5276 - val_loss: 1.2779 - val_accuracy: 0.4911\n",
      "\n",
      "Epoch 00005: val_accuracy did not improve from 0.49446\n",
      "Epoch 6/20\n",
      "450/450 [==============================] - 23s 51ms/step - loss: 1.2004 - accuracy: 0.5451 - val_loss: 1.6240 - val_accuracy: 0.4256\n",
      "\n",
      "Epoch 00006: val_accuracy did not improve from 0.49446\n",
      "Epoch 7/20\n",
      "450/450 [==============================] - 24s 52ms/step - loss: 1.1629 - accuracy: 0.5592 - val_loss: 1.2698 - val_accuracy: 0.4831\n",
      "\n",
      "Epoch 00007: val_accuracy did not improve from 0.49446\n",
      "Epoch 8/20\n",
      "450/450 [==============================] - 24s 53ms/step - loss: 1.1416 - accuracy: 0.5687 - val_loss: 1.2207 - val_accuracy: 0.5388\n",
      "\n",
      "Epoch 00008: val_accuracy improved from 0.49446 to 0.53878, saving model to ./model2.h5\n",
      "Epoch 9/20\n",
      "450/450 [==============================] - 24s 53ms/step - loss: 1.1196 - accuracy: 0.5793 - val_loss: 1.1056 - val_accuracy: 0.5827\n",
      "\n",
      "Epoch 00009: val_accuracy improved from 0.53878 to 0.58267, saving model to ./model2.h5\n",
      "Epoch 10/20\n",
      "450/450 [==============================] - 23s 52ms/step - loss: 1.0947 - accuracy: 0.5899 - val_loss: 1.0928 - val_accuracy: 0.5869\n",
      "\n",
      "Epoch 00010: val_accuracy improved from 0.58267 to 0.58693, saving model to ./model2.h5\n",
      "Epoch 11/20\n",
      "450/450 [==============================] - 23s 52ms/step - loss: 1.0765 - accuracy: 0.5957 - val_loss: 1.2445 - val_accuracy: 0.5270\n",
      "\n",
      "Epoch 00011: val_accuracy did not improve from 0.58693\n",
      "Epoch 12/20\n",
      "450/450 [==============================] - 26s 59ms/step - loss: 1.0474 - accuracy: 0.6070 - val_loss: 1.1306 - val_accuracy: 0.5685\n",
      "\n",
      "Epoch 00012: val_accuracy did not improve from 0.58693\n",
      "Epoch 13/20\n",
      "450/450 [==============================] - 24s 53ms/step - loss: 1.0446 - accuracy: 0.6111 - val_loss: 1.2085 - val_accuracy: 0.5669\n",
      "\n",
      "Epoch 00013: val_accuracy did not improve from 0.58693\n",
      "Epoch 14/20\n",
      "450/450 [==============================] - 24s 53ms/step - loss: 1.0246 - accuracy: 0.6156 - val_loss: 1.0326 - val_accuracy: 0.6176\n",
      "\n",
      "Epoch 00014: val_accuracy improved from 0.58693 to 0.61761, saving model to ./model2.h5\n",
      "Epoch 15/20\n",
      "450/450 [==============================] - 23s 52ms/step - loss: 1.0097 - accuracy: 0.6228 - val_loss: 1.1248 - val_accuracy: 0.5734\n",
      "\n",
      "Epoch 00015: val_accuracy did not improve from 0.61761\n",
      "Epoch 16/20\n",
      "450/450 [==============================] - 24s 53ms/step - loss: 0.9923 - accuracy: 0.6326 - val_loss: 1.1523 - val_accuracy: 0.5589\n",
      "\n",
      "Epoch 00016: val_accuracy did not improve from 0.61761\n",
      "Epoch 17/20\n",
      "450/450 [==============================] - 26s 57ms/step - loss: 0.9680 - accuracy: 0.6382 - val_loss: 1.1798 - val_accuracy: 0.5372\n",
      "\n",
      "Epoch 00017: val_accuracy did not improve from 0.61761\n",
      "Epoch 18/20\n",
      "450/450 [==============================] - 25s 57ms/step - loss: 0.9490 - accuracy: 0.6439 - val_loss: 1.3532 - val_accuracy: 0.4983\n",
      "\n",
      "Epoch 00018: val_accuracy did not improve from 0.61761\n",
      "Epoch 19/20\n",
      "450/450 [==============================] - 24s 52ms/step - loss: 0.9205 - accuracy: 0.6589 - val_loss: 1.1154 - val_accuracy: 0.5744\n",
      "\n",
      "Epoch 00019: val_accuracy did not improve from 0.61761\n",
      "Epoch 20/20\n",
      "450/450 [==============================] - 24s 53ms/step - loss: 0.9173 - accuracy: 0.6599 - val_loss: 1.0962 - val_accuracy: 0.5857\n",
      "\n",
      "Epoch 00020: val_accuracy did not improve from 0.61761\n",
      "CPU times: user 5min 33s, sys: 50.9 s, total: 6min 23s\n",
      "Wall time: 8min 9s\n"
     ]
    }
   ],
   "source": [
    "%%time\n",
    "epochs = 20\n",
    "steps_per_epoch = train_generator.n//train_generator.batch_size\n",
    "validation_steps = validation_generator.n//validation_generator.batch_size\n",
    "\n",
    "history = model.fit(\n",
    "    x=train_generator,\n",
    "    steps_per_epoch=steps_per_epoch,\n",
    "    epochs=epochs,\n",
    "    validation_data = validation_generator,\n",
    "    validation_steps = validation_steps,\n",
    "    callbacks = [checkpoint2]\n",
    ")"
   ]
  },
  {
   "cell_type": "code",
   "execution_count": 19,
   "id": "built-stage",
   "metadata": {
    "execution": {
     "iopub.execute_input": "2021-10-01T13:34:32.833273Z",
     "iopub.status.busy": "2021-10-01T13:34:32.832451Z",
     "iopub.status.idle": "2021-10-01T13:34:32.980569Z",
     "shell.execute_reply": "2021-10-01T13:34:32.980081Z"
    },
    "papermill": {
     "duration": 1.589568,
     "end_time": "2021-10-01T13:34:32.980714",
     "exception": false,
     "start_time": "2021-10-01T13:34:31.391146",
     "status": "completed"
    },
    "tags": []
   },
   "outputs": [],
   "source": [
    "model.save('./model2.h5')\n",
    "#model = keras.models.load_model('./finalmodel.h5')"
   ]
  },
  {
   "cell_type": "code",
   "execution_count": 20,
   "id": "specified-dragon",
   "metadata": {
    "execution": {
     "iopub.execute_input": "2021-10-01T13:34:35.748454Z",
     "iopub.status.busy": "2021-10-01T13:34:35.747283Z",
     "iopub.status.idle": "2021-10-01T13:34:35.928746Z",
     "shell.execute_reply": "2021-10-01T13:34:35.929267Z"
    },
    "papermill": {
     "duration": 1.581244,
     "end_time": "2021-10-01T13:34:35.929457",
     "exception": false,
     "start_time": "2021-10-01T13:34:34.348213",
     "status": "completed"
    },
    "tags": []
   },
   "outputs": [
    {
     "data": {
      "image/png": "[encoded data removed]",
      "text/plain": [
       "<Figure size 864x432 with 1 Axes>"
      ]
     },
     "metadata": {
      "needs_background": "light"
     },
     "output_type": "display_data"
    }
   ],
   "source": [
    "plt.figure(figsize=(12, 6))\n",
    "plt.plot(history.history['loss'], label=\"Training loss\")\n",
    "plt.plot(history.history['val_loss'], label=\"Validation loss\")\n",
    "plt.legend()\n",
    "plt.title(\"Training vs Validation Loss\")\n",
    "plt.show()"
   ]
  },
  {
   "cell_type": "code",
   "execution_count": 21,
   "id": "twelve-spread",
   "metadata": {
    "execution": {
     "iopub.execute_input": "2021-10-01T13:34:38.961858Z",
     "iopub.status.busy": "2021-10-01T13:34:38.960980Z",
     "iopub.status.idle": "2021-10-01T13:34:39.116676Z",
     "shell.execute_reply": "2021-10-01T13:34:39.117092Z"
    },
    "papermill": {
     "duration": 1.798742,
     "end_time": "2021-10-01T13:34:39.117240",
     "exception": false,
     "start_time": "2021-10-01T13:34:37.318498",
     "status": "completed"
    },
    "tags": []
   },
   "outputs": [
    {
     "data": {
      "image/png": "[encoded data removed]",
      "text/plain": [
       "<Figure size 864x432 with 1 Axes>"
      ]
     },
     "metadata": {
      "needs_background": "light"
     },
     "output_type": "display_data"
    }
   ],
   "source": [
    "plt.figure(figsize=(12, 6))\n",
    "plt.plot(history.history['accuracy'], label=\"Training acc\")\n",
    "plt.plot(history.history['val_accuracy'], label=\"Validation acc\")\n",
    "plt.legend()\n",
    "plt.title(\"Training vs Validation Accuracy\")\n",
    "plt.show()"
   ]
  },
  {
   "cell_type": "markdown",
   "id": "unlike-strap",
   "metadata": {
    "papermill": {
     "duration": 1.381076,
     "end_time": "2021-10-01T13:34:41.956674",
     "exception": false,
     "start_time": "2021-10-01T13:34:40.575598",
     "status": "completed"
    },
    "tags": []
   },
   "source": [
    "# transfer learning"
   ]
  },
  {
   "cell_type": "code",
   "execution_count": 22,
   "id": "superb-typing",
   "metadata": {
    "execution": {
     "iopub.execute_input": "2021-10-01T13:34:44.714370Z",
     "iopub.status.busy": "2021-10-01T13:34:44.713798Z",
     "iopub.status.idle": "2021-10-01T13:34:44.815715Z",
     "shell.execute_reply": "2021-10-01T13:34:44.815222Z",
     "shell.execute_reply.started": "2021-10-01T13:14:54.249296Z"
    },
    "papermill": {
     "duration": 1.486047,
     "end_time": "2021-10-01T13:34:44.815844",
     "exception": false,
     "start_time": "2021-10-01T13:34:43.329797",
     "status": "completed"
    },
    "tags": []
   },
   "outputs": [],
   "source": [
    "# Model Initialization\n",
    "\n",
    "base_model = VGG16(input_shape=(48,48,1), \n",
    "                         include_top=False,\n",
    "                         weights=None)"
   ]
  },
  {
   "cell_type": "code",
   "execution_count": 23,
   "id": "canadian-fight",
   "metadata": {
    "execution": {
     "iopub.execute_input": "2021-10-01T13:34:47.654168Z",
     "iopub.status.busy": "2021-10-01T13:34:47.652482Z",
     "iopub.status.idle": "2021-10-01T13:34:47.654860Z",
     "shell.execute_reply": "2021-10-01T13:34:47.655260Z",
     "shell.execute_reply.started": "2021-10-01T13:14:56.081072Z"
    },
    "papermill": {
     "duration": 1.418821,
     "end_time": "2021-10-01T13:34:47.655409",
     "exception": false,
     "start_time": "2021-10-01T13:34:46.236588",
     "status": "completed"
    },
    "tags": []
   },
   "outputs": [],
   "source": [
    "# Freezing Layers\n",
    "\n",
    "for layer in base_model.layers:\n",
    "    layer.trainable=False"
   ]
  },
  {
   "cell_type": "code",
   "execution_count": 24,
   "id": "gross-breed",
   "metadata": {
    "execution": {
     "iopub.execute_input": "2021-10-01T13:34:50.653431Z",
     "iopub.status.busy": "2021-10-01T13:34:50.652591Z",
     "iopub.status.idle": "2021-10-01T13:34:50.726556Z",
     "shell.execute_reply": "2021-10-01T13:34:50.725804Z",
     "shell.execute_reply.started": "2021-10-01T13:14:57.545520Z"
    },
    "papermill": {
     "duration": 1.457078,
     "end_time": "2021-10-01T13:34:50.726680",
     "exception": false,
     "start_time": "2021-10-01T13:34:49.269602",
     "status": "completed"
    },
    "tags": []
   },
   "outputs": [],
   "source": [
    "# Building Model\n",
    "\n",
    "model=Sequential()\n",
    "model.add(base_model)\n",
    "model.add(Flatten())\n",
    "model.add(Dense(128, activation='relu'))\n",
    "model.add(Dropout(0.25))\n",
    "model.add(Dense(64, activation='relu'))\n",
    "model.add(Dropout(0.25))\n",
    "model.add(Dense(7, activation='softmax'))"
   ]
  },
  {
   "cell_type": "code",
   "execution_count": 25,
   "id": "destroyed-velvet",
   "metadata": {
    "execution": {
     "iopub.execute_input": "2021-10-01T13:34:53.528782Z",
     "iopub.status.busy": "2021-10-01T13:34:53.527898Z",
     "iopub.status.idle": "2021-10-01T13:34:53.535188Z",
     "shell.execute_reply": "2021-10-01T13:34:53.534578Z",
     "shell.execute_reply.started": "2021-10-01T13:13:36.756538Z"
    },
    "papermill": {
     "duration": 1.386143,
     "end_time": "2021-10-01T13:34:53.535343",
     "exception": false,
     "start_time": "2021-10-01T13:34:52.149200",
     "status": "completed"
    },
    "tags": []
   },
   "outputs": [
    {
     "name": "stdout",
     "output_type": "stream",
     "text": [
      "Model: \"sequential_2\"\n",
      "_________________________________________________________________\n",
      "Layer (type)                 Output Shape              Param #   \n",
      "=================================================================\n",
      "vgg16 (Functional)           (None, 1, 1, 512)         14713536  \n",
      "_________________________________________________________________\n",
      "flatten_1 (Flatten)          (None, 512)               0         \n",
      "_________________________________________________________________\n",
      "dense_7 (Dense)              (None, 128)               65664     \n",
      "_________________________________________________________________\n",
      "dropout_9 (Dropout)          (None, 128)               0         \n",
      "_________________________________________________________________\n",
      "dense_8 (Dense)              (None, 64)                8256      \n",
      "_________________________________________________________________\n",
      "dropout_10 (Dropout)         (None, 64)                0         \n",
      "_________________________________________________________________\n",
      "dense_9 (Dense)              (None, 7)                 455       \n",
      "=================================================================\n",
      "Total params: 14,787,911\n",
      "Trainable params: 74,375\n",
      "Non-trainable params: 14,713,536\n",
      "_________________________________________________________________\n"
     ]
    }
   ],
   "source": [
    "# Summary\n",
    "\n",
    "model.summary()"
   ]
  },
  {
   "cell_type": "code",
   "execution_count": 26,
   "id": "textile-steps",
   "metadata": {
    "execution": {
     "iopub.execute_input": "2021-10-01T13:34:56.305782Z",
     "iopub.status.busy": "2021-10-01T13:34:56.304957Z",
     "iopub.status.idle": "2021-10-01T13:34:56.763912Z",
     "shell.execute_reply": "2021-10-01T13:34:56.764329Z"
    },
    "papermill": {
     "duration": 1.839599,
     "end_time": "2021-10-01T13:34:56.764480",
     "exception": false,
     "start_time": "2021-10-01T13:34:54.924881",
     "status": "completed"
    },
    "tags": []
   },
   "outputs": [
    {
     "data": {
      "image/png": "[encoded data removed]",
      "text/plain": [
       "<IPython.core.display.Image object>"
      ]
     },
     "execution_count": 26,
     "metadata": {
      "image/png": {
       "height": 200,
       "width": 400
      }
     },
     "output_type": "execute_result"
    }
   ],
   "source": [
    "from tensorflow.keras.utils import plot_model\n",
    "from IPython.display import SVG, Image\n",
    "plot_model(model, to_file='model.png', show_shapes=True, show_layer_names=True)\n",
    "Image('model.png',width=400, height=200)"
   ]
  },
  {
   "cell_type": "code",
   "execution_count": 27,
   "id": "attended-boundary",
   "metadata": {
    "execution": {
     "iopub.execute_input": "2021-10-01T13:35:00.275461Z",
     "iopub.status.busy": "2021-10-01T13:35:00.274490Z",
     "iopub.status.idle": "2021-10-01T13:35:00.290778Z",
     "shell.execute_reply": "2021-10-01T13:35:00.290366Z",
     "shell.execute_reply.started": "2021-10-01T13:15:01.092672Z"
    },
    "papermill": {
     "duration": 1.670172,
     "end_time": "2021-10-01T13:35:00.290897",
     "exception": false,
     "start_time": "2021-10-01T13:34:58.620725",
     "status": "completed"
    },
    "tags": []
   },
   "outputs": [],
   "source": [
    "# Model Compile \n",
    "import tensorflow\n",
    "OPT    = tensorflow.keras.optimizers.Adam(lr=0.001)\n",
    "\n",
    "model.compile(loss='categorical_crossentropy',\n",
    "              metrics=['accuracy',Precision(),Recall()],\n",
    "              optimizer=OPT)"
   ]
  },
  {
   "cell_type": "code",
   "execution_count": 28,
   "id": "proprietary-delicious",
   "metadata": {
    "execution": {
     "iopub.execute_input": "2021-10-01T13:35:03.057599Z",
     "iopub.status.busy": "2021-10-01T13:35:03.056990Z",
     "iopub.status.idle": "2021-10-01T13:35:03.060563Z",
     "shell.execute_reply": "2021-10-01T13:35:03.060097Z",
     "shell.execute_reply.started": "2021-10-01T13:15:04.128345Z"
    },
    "papermill": {
     "duration": 1.394848,
     "end_time": "2021-10-01T13:35:03.060681",
     "exception": false,
     "start_time": "2021-10-01T13:35:01.665833",
     "status": "completed"
    },
    "tags": []
   },
   "outputs": [],
   "source": [
    "# Defining Callbacks\n",
    "\n",
    "filepath = './best_weights.hdf5'\n",
    "\n",
    "earlystopping = EarlyStopping(monitor = 'val_accuracy', \n",
    "                              mode = 'max' , \n",
    "                              patience = 15,\n",
    "                              verbose = 1)\n",
    "\n",
    "checkpoint    = ModelCheckpoint(filepath, \n",
    "                                monitor = 'val_accuracy', \n",
    "                                mode='max', \n",
    "                                save_best_only=True, \n",
    "                                verbose = 1)\n",
    "\n",
    "\n",
    "callback_list = [earlystopping, checkpoint]"
   ]
  },
  {
   "cell_type": "code",
   "execution_count": 29,
   "id": "fixed-pakistan",
   "metadata": {
    "execution": {
     "iopub.execute_input": "2021-10-01T13:35:05.843034Z",
     "iopub.status.busy": "2021-10-01T13:35:05.842407Z",
     "iopub.status.idle": "2021-10-01T17:11:34.059952Z",
     "shell.execute_reply": "2021-10-01T17:11:34.059230Z",
     "shell.execute_reply.started": "2021-10-01T13:15:06.340562Z"
    },
    "papermill": {
     "duration": 12989.626476,
     "end_time": "2021-10-01T17:11:34.060132",
     "exception": false,
     "start_time": "2021-10-01T13:35:04.433656",
     "status": "completed"
    },
    "tags": []
   },
   "outputs": [
    {
     "name": "stdout",
     "output_type": "stream",
     "text": [
      "Epoch 1/100\n",
      "451/451 [==============================] - 190s 415ms/step - loss: 1.8441 - accuracy: 0.2339 - precision: 0.0000e+00 - recall: 0.0000e+00 - val_loss: 1.8031 - val_accuracy: 0.2583 - val_precision: 0.0000e+00 - val_recall: 0.0000e+00\n",
      "\n",
      "Epoch 00001: val_accuracy improved from -inf to 0.25828, saving model to ./best_weights.hdf5\n",
      "Epoch 2/100\n",
      "451/451 [==============================] - 185s 411ms/step - loss: 1.8131 - accuracy: 0.2517 - precision: 0.8230 - recall: 5.9922e-05 - val_loss: 1.7831 - val_accuracy: 0.2662 - val_precision: 0.0000e+00 - val_recall: 0.0000e+00\n",
      "\n",
      "Epoch 00002: val_accuracy improved from 0.25828 to 0.26620, saving model to ./best_weights.hdf5\n",
      "Epoch 3/100\n",
      "451/451 [==============================] - 185s 411ms/step - loss: 1.7923 - accuracy: 0.2522 - precision: 0.3069 - recall: 3.7728e-05 - val_loss: 1.7680 - val_accuracy: 0.2829 - val_precision: 0.0000e+00 - val_recall: 0.0000e+00\n",
      "\n",
      "Epoch 00003: val_accuracy improved from 0.26620 to 0.28290, saving model to ./best_weights.hdf5\n",
      "Epoch 4/100\n",
      "451/451 [==============================] - 185s 411ms/step - loss: 1.7788 - accuracy: 0.2639 - precision: 0.4736 - recall: 0.0011 - val_loss: 1.7443 - val_accuracy: 0.2860 - val_precision: 0.0000e+00 - val_recall: 0.0000e+00\n",
      "\n",
      "Epoch 00004: val_accuracy improved from 0.28290 to 0.28602, saving model to ./best_weights.hdf5\n",
      "Epoch 5/100\n",
      "451/451 [==============================] - 185s 410ms/step - loss: 1.7700 - accuracy: 0.2709 - precision: 0.5567 - recall: 0.0041 - val_loss: 1.7496 - val_accuracy: 0.2971 - val_precision: 0.0000e+00 - val_recall: 0.0000e+00\n",
      "\n",
      "Epoch 00005: val_accuracy improved from 0.28602 to 0.29706, saving model to ./best_weights.hdf5\n",
      "Epoch 6/100\n",
      "451/451 [==============================] - 185s 411ms/step - loss: 1.7585 - accuracy: 0.2771 - precision: 0.4999 - recall: 0.0076 - val_loss: 1.7429 - val_accuracy: 0.2931 - val_precision: 0.8000 - val_recall: 5.6609e-04\n",
      "\n",
      "Epoch 00006: val_accuracy did not improve from 0.29706\n",
      "Epoch 7/100\n",
      "451/451 [==============================] - 185s 411ms/step - loss: 1.7475 - accuracy: 0.2837 - precision: 0.5530 - recall: 0.0150 - val_loss: 1.7110 - val_accuracy: 0.3207 - val_precision: 0.6800 - val_recall: 0.0024\n",
      "\n",
      "Epoch 00007: val_accuracy improved from 0.29706 to 0.32069, saving model to ./best_weights.hdf5\n",
      "Epoch 8/100\n",
      "451/451 [==============================] - 185s 411ms/step - loss: 1.7381 - accuracy: 0.2881 - precision: 0.5708 - recall: 0.0203 - val_loss: 1.7021 - val_accuracy: 0.3172 - val_precision: 0.6981 - val_recall: 0.0262\n",
      "\n",
      "Epoch 00008: val_accuracy did not improve from 0.32069\n",
      "Epoch 9/100\n",
      "451/451 [==============================] - 185s 410ms/step - loss: 1.7341 - accuracy: 0.2899 - precision: 0.5704 - recall: 0.0240 - val_loss: 1.7025 - val_accuracy: 0.3186 - val_precision: 0.6949 - val_recall: 0.0116\n",
      "\n",
      "Epoch 00009: val_accuracy did not improve from 0.32069\n",
      "Epoch 10/100\n",
      "451/451 [==============================] - 185s 411ms/step - loss: 1.7245 - accuracy: 0.3004 - precision: 0.5758 - recall: 0.0286 - val_loss: 1.6826 - val_accuracy: 0.3247 - val_precision: 0.7039 - val_recall: 0.0232\n",
      "\n",
      "Epoch 00010: val_accuracy improved from 0.32069 to 0.32465, saving model to ./best_weights.hdf5\n",
      "Epoch 11/100\n",
      "451/451 [==============================] - 185s 410ms/step - loss: 1.7230 - accuracy: 0.3000 - precision: 0.5843 - recall: 0.0354 - val_loss: 1.6765 - val_accuracy: 0.3289 - val_precision: 0.6637 - val_recall: 0.0522\n",
      "\n",
      "Epoch 00011: val_accuracy improved from 0.32465 to 0.32890, saving model to ./best_weights.hdf5\n",
      "Epoch 12/100\n",
      "451/451 [==============================] - 185s 411ms/step - loss: 1.7140 - accuracy: 0.3045 - precision: 0.5831 - recall: 0.0395 - val_loss: 1.6732 - val_accuracy: 0.3324 - val_precision: 0.6510 - val_recall: 0.0607\n",
      "\n",
      "Epoch 00012: val_accuracy improved from 0.32890 to 0.33244, saving model to ./best_weights.hdf5\n",
      "Epoch 13/100\n",
      "451/451 [==============================] - 185s 411ms/step - loss: 1.7134 - accuracy: 0.3094 - precision: 0.5775 - recall: 0.0423 - val_loss: 1.7044 - val_accuracy: 0.3162 - val_precision: 0.7946 - val_recall: 0.0126\n",
      "\n",
      "Epoch 00013: val_accuracy did not improve from 0.33244\n",
      "Epoch 14/100\n",
      "451/451 [==============================] - 185s 411ms/step - loss: 1.7151 - accuracy: 0.3030 - precision: 0.5952 - recall: 0.0433 - val_loss: 1.6863 - val_accuracy: 0.3327 - val_precision: 0.6660 - val_recall: 0.0488\n",
      "\n",
      "Epoch 00014: val_accuracy improved from 0.33244 to 0.33272, saving model to ./best_weights.hdf5\n",
      "Epoch 15/100\n",
      "451/451 [==============================] - 185s 411ms/step - loss: 1.7113 - accuracy: 0.3049 - precision: 0.6045 - recall: 0.0434 - val_loss: 1.6796 - val_accuracy: 0.3404 - val_precision: 0.7446 - val_recall: 0.0243\n",
      "\n",
      "Epoch 00015: val_accuracy improved from 0.33272 to 0.34036, saving model to ./best_weights.hdf5\n",
      "Epoch 16/100\n",
      "451/451 [==============================] - 185s 411ms/step - loss: 1.7087 - accuracy: 0.3101 - precision: 0.6108 - recall: 0.0484 - val_loss: 1.6835 - val_accuracy: 0.3406 - val_precision: 0.7326 - val_recall: 0.0178\n",
      "\n",
      "Epoch 00016: val_accuracy improved from 0.34036 to 0.34065, saving model to ./best_weights.hdf5\n",
      "Epoch 17/100\n",
      "451/451 [==============================] - 185s 411ms/step - loss: 1.7069 - accuracy: 0.3125 - precision: 0.6117 - recall: 0.0507 - val_loss: 1.6741 - val_accuracy: 0.3398 - val_precision: 0.7250 - val_recall: 0.0328\n",
      "\n",
      "Epoch 00017: val_accuracy did not improve from 0.34065\n",
      "Epoch 18/100\n",
      "451/451 [==============================] - 185s 411ms/step - loss: 1.7070 - accuracy: 0.3123 - precision: 0.6146 - recall: 0.0509 - val_loss: 1.6983 - val_accuracy: 0.3300 - val_precision: 0.8108 - val_recall: 0.0085\n",
      "\n",
      "Epoch 00018: val_accuracy did not improve from 0.34065\n",
      "Epoch 19/100\n",
      "451/451 [==============================] - 185s 411ms/step - loss: 1.7076 - accuracy: 0.3047 - precision: 0.6177 - recall: 0.0498 - val_loss: 1.6666 - val_accuracy: 0.3466 - val_precision: 0.7137 - val_recall: 0.0459\n",
      "\n",
      "Epoch 00019: val_accuracy improved from 0.34065 to 0.34659, saving model to ./best_weights.hdf5\n",
      "Epoch 20/100\n",
      "451/451 [==============================] - 185s 411ms/step - loss: 1.7028 - accuracy: 0.3141 - precision: 0.6047 - recall: 0.0478 - val_loss: 1.6719 - val_accuracy: 0.3483 - val_precision: 0.7059 - val_recall: 0.0408\n",
      "\n",
      "Epoch 00020: val_accuracy improved from 0.34659 to 0.34829, saving model to ./best_weights.hdf5\n",
      "Epoch 21/100\n",
      "451/451 [==============================] - 185s 411ms/step - loss: 1.6963 - accuracy: 0.3178 - precision: 0.6263 - recall: 0.0589 - val_loss: 1.6639 - val_accuracy: 0.3528 - val_precision: 0.7203 - val_recall: 0.0386\n",
      "\n",
      "Epoch 00021: val_accuracy improved from 0.34829 to 0.35282, saving model to ./best_weights.hdf5\n",
      "Epoch 22/100\n",
      "451/451 [==============================] - 185s 411ms/step - loss: 1.6991 - accuracy: 0.3207 - precision: 0.5958 - recall: 0.0549 - val_loss: 1.6686 - val_accuracy: 0.3431 - val_precision: 0.7085 - val_recall: 0.0447\n",
      "\n",
      "Epoch 00022: val_accuracy did not improve from 0.35282\n",
      "Epoch 23/100\n",
      "451/451 [==============================] - 185s 411ms/step - loss: 1.6947 - accuracy: 0.3164 - precision: 0.6083 - recall: 0.0597 - val_loss: 1.6865 - val_accuracy: 0.3303 - val_precision: 0.6823 - val_recall: 0.0371\n",
      "\n",
      "Epoch 00023: val_accuracy did not improve from 0.35282\n",
      "Epoch 24/100\n",
      "451/451 [==============================] - 185s 411ms/step - loss: 1.7083 - accuracy: 0.3059 - precision: 0.6067 - recall: 0.0455 - val_loss: 1.6508 - val_accuracy: 0.3486 - val_precision: 0.7031 - val_recall: 0.0546\n",
      "\n",
      "Epoch 00024: val_accuracy did not improve from 0.35282\n",
      "Epoch 25/100\n",
      "451/451 [==============================] - 185s 411ms/step - loss: 1.7095 - accuracy: 0.3084 - precision: 0.5954 - recall: 0.0478 - val_loss: 1.6536 - val_accuracy: 0.3491 - val_precision: 0.7083 - val_recall: 0.0667\n",
      "\n",
      "Epoch 00025: val_accuracy did not improve from 0.35282\n",
      "Epoch 26/100\n",
      "451/451 [==============================] - 185s 410ms/step - loss: 1.6936 - accuracy: 0.3178 - precision: 0.6117 - recall: 0.0592 - val_loss: 1.6546 - val_accuracy: 0.3561 - val_precision: 0.7351 - val_recall: 0.0401\n",
      "\n",
      "Epoch 00026: val_accuracy improved from 0.35282 to 0.35607, saving model to ./best_weights.hdf5\n",
      "Epoch 27/100\n",
      "451/451 [==============================] - 185s 411ms/step - loss: 1.6889 - accuracy: 0.3238 - precision: 0.6260 - recall: 0.0631 - val_loss: 1.6627 - val_accuracy: 0.3364 - val_precision: 0.6499 - val_recall: 0.0859\n",
      "\n",
      "Epoch 00027: val_accuracy did not improve from 0.35607\n",
      "Epoch 28/100\n",
      "451/451 [==============================] - 185s 410ms/step - loss: 1.6892 - accuracy: 0.3198 - precision: 0.6221 - recall: 0.0633 - val_loss: 1.6559 - val_accuracy: 0.3473 - val_precision: 0.7019 - val_recall: 0.0517\n",
      "\n",
      "Epoch 00028: val_accuracy did not improve from 0.35607\n",
      "Epoch 29/100\n",
      "451/451 [==============================] - 185s 410ms/step - loss: 1.7000 - accuracy: 0.3043 - precision: 0.6385 - recall: 0.0490 - val_loss: 1.6781 - val_accuracy: 0.3467 - val_precision: 0.7382 - val_recall: 0.0375\n",
      "\n",
      "Epoch 00029: val_accuracy did not improve from 0.35607\n",
      "Epoch 30/100\n",
      "451/451 [==============================] - 185s 410ms/step - loss: 1.6903 - accuracy: 0.3216 - precision: 0.6337 - recall: 0.0594 - val_loss: 1.6582 - val_accuracy: 0.3436 - val_precision: 0.6319 - val_recall: 0.0858\n",
      "\n",
      "Epoch 00030: val_accuracy did not improve from 0.35607\n",
      "Epoch 31/100\n",
      "451/451 [==============================] - 185s 411ms/step - loss: 1.6952 - accuracy: 0.3175 - precision: 0.6204 - recall: 0.0577 - val_loss: 1.6496 - val_accuracy: 0.3575 - val_precision: 0.7163 - val_recall: 0.0504\n",
      "\n",
      "Epoch 00031: val_accuracy improved from 0.35607 to 0.35749, saving model to ./best_weights.hdf5\n",
      "Epoch 32/100\n",
      "451/451 [==============================] - 186s 411ms/step - loss: 1.6836 - accuracy: 0.3250 - precision: 0.6234 - recall: 0.0639 - val_loss: 1.6632 - val_accuracy: 0.3365 - val_precision: 0.6278 - val_recall: 0.0938\n",
      "\n",
      "Epoch 00032: val_accuracy did not improve from 0.35749\n",
      "Epoch 33/100\n",
      "451/451 [==============================] - 185s 410ms/step - loss: 1.6940 - accuracy: 0.3173 - precision: 0.6205 - recall: 0.0602 - val_loss: 1.6594 - val_accuracy: 0.3525 - val_precision: 0.7139 - val_recall: 0.0371\n",
      "\n",
      "Epoch 00033: val_accuracy did not improve from 0.35749\n",
      "Epoch 34/100\n",
      "451/451 [==============================] - 185s 411ms/step - loss: 1.6852 - accuracy: 0.3266 - precision: 0.6196 - recall: 0.0635 - val_loss: 1.6771 - val_accuracy: 0.3462 - val_precision: 0.7327 - val_recall: 0.0314\n",
      "\n",
      "Epoch 00034: val_accuracy did not improve from 0.35749\n",
      "Epoch 35/100\n",
      "451/451 [==============================] - 185s 410ms/step - loss: 1.6819 - accuracy: 0.3244 - precision: 0.6414 - recall: 0.0641 - val_loss: 1.6560 - val_accuracy: 0.3507 - val_precision: 0.7353 - val_recall: 0.0495\n",
      "\n",
      "Epoch 00035: val_accuracy did not improve from 0.35749\n",
      "Epoch 36/100\n",
      "451/451 [==============================] - 185s 410ms/step - loss: 1.6880 - accuracy: 0.3220 - precision: 0.6146 - recall: 0.0652 - val_loss: 1.6515 - val_accuracy: 0.3565 - val_precision: 0.7308 - val_recall: 0.0350\n",
      "\n",
      "Epoch 00036: val_accuracy did not improve from 0.35749\n",
      "Epoch 37/100\n",
      "451/451 [==============================] - 185s 411ms/step - loss: 1.6753 - accuracy: 0.3289 - precision: 0.6348 - recall: 0.0699 - val_loss: 1.6373 - val_accuracy: 0.3634 - val_precision: 0.6588 - val_recall: 0.0825\n",
      "\n",
      "Epoch 00037: val_accuracy improved from 0.35749 to 0.36343, saving model to ./best_weights.hdf5\n",
      "Epoch 38/100\n",
      "451/451 [==============================] - 185s 410ms/step - loss: 1.6893 - accuracy: 0.3197 - precision: 0.6172 - recall: 0.0625 - val_loss: 1.6554 - val_accuracy: 0.3395 - val_precision: 0.7199 - val_recall: 0.0549\n",
      "\n",
      "Epoch 00038: val_accuracy did not improve from 0.36343\n",
      "Epoch 39/100\n",
      "451/451 [==============================] - 186s 411ms/step - loss: 1.6869 - accuracy: 0.3192 - precision: 0.6305 - recall: 0.0615 - val_loss: 1.6374 - val_accuracy: 0.3636 - val_precision: 0.7024 - val_recall: 0.0695\n",
      "\n",
      "Epoch 00039: val_accuracy improved from 0.36343 to 0.36357, saving model to ./best_weights.hdf5\n",
      "Epoch 40/100\n",
      "451/451 [==============================] - 187s 414ms/step - loss: 1.6921 - accuracy: 0.3176 - precision: 0.6176 - recall: 0.0608 - val_loss: 1.6450 - val_accuracy: 0.3513 - val_precision: 0.7032 - val_recall: 0.0654\n",
      "\n",
      "Epoch 00040: val_accuracy did not improve from 0.36357\n",
      "Epoch 41/100\n",
      "451/451 [==============================] - 185s 411ms/step - loss: 1.6887 - accuracy: 0.3188 - precision: 0.6394 - recall: 0.0602 - val_loss: 1.6553 - val_accuracy: 0.3518 - val_precision: 0.6732 - val_recall: 0.0781\n",
      "\n",
      "Epoch 00041: val_accuracy did not improve from 0.36357\n",
      "Epoch 42/100\n",
      "451/451 [==============================] - 185s 410ms/step - loss: 1.6873 - accuracy: 0.3168 - precision: 0.6257 - recall: 0.0601 - val_loss: 1.6531 - val_accuracy: 0.3599 - val_precision: 0.7329 - val_recall: 0.0350\n",
      "\n",
      "Epoch 00042: val_accuracy did not improve from 0.36357\n",
      "Epoch 43/100\n",
      "451/451 [==============================] - 185s 411ms/step - loss: 1.6840 - accuracy: 0.3196 - precision: 0.6347 - recall: 0.0638 - val_loss: 1.6463 - val_accuracy: 0.3605 - val_precision: 0.7361 - val_recall: 0.0545\n",
      "\n",
      "Epoch 00043: val_accuracy did not improve from 0.36357\n",
      "Epoch 44/100\n",
      "451/451 [==============================] - 185s 410ms/step - loss: 1.6765 - accuracy: 0.3266 - precision: 0.6447 - recall: 0.0709 - val_loss: 1.6842 - val_accuracy: 0.3350 - val_precision: 0.8131 - val_recall: 0.0228\n",
      "\n",
      "Epoch 00044: val_accuracy did not improve from 0.36357\n",
      "Epoch 45/100\n",
      "451/451 [==============================] - 185s 410ms/step - loss: 1.6810 - accuracy: 0.3248 - precision: 0.6410 - recall: 0.0672 - val_loss: 1.6439 - val_accuracy: 0.3501 - val_precision: 0.7350 - val_recall: 0.0538\n",
      "\n",
      "Epoch 00045: val_accuracy did not improve from 0.36357\n",
      "Epoch 46/100\n",
      "451/451 [==============================] - 185s 410ms/step - loss: 1.6866 - accuracy: 0.3218 - precision: 0.6343 - recall: 0.0617 - val_loss: 1.6418 - val_accuracy: 0.3571 - val_precision: 0.6900 - val_recall: 0.0797\n",
      "\n",
      "Epoch 00046: val_accuracy did not improve from 0.36357\n",
      "Epoch 47/100\n",
      "451/451 [==============================] - 185s 410ms/step - loss: 1.6698 - accuracy: 0.3291 - precision: 0.6290 - recall: 0.0685 - val_loss: 1.6450 - val_accuracy: 0.3706 - val_precision: 0.7415 - val_recall: 0.0589\n",
      "\n",
      "Epoch 00047: val_accuracy improved from 0.36357 to 0.37065, saving model to ./best_weights.hdf5\n",
      "Epoch 48/100\n",
      "451/451 [==============================] - 185s 410ms/step - loss: 1.6851 - accuracy: 0.3186 - precision: 0.6379 - recall: 0.0622 - val_loss: 1.6435 - val_accuracy: 0.3610 - val_precision: 0.7201 - val_recall: 0.0572\n",
      "\n",
      "Epoch 00048: val_accuracy did not improve from 0.37065\n",
      "Epoch 49/100\n",
      "451/451 [==============================] - 185s 410ms/step - loss: 1.6903 - accuracy: 0.3161 - precision: 0.6348 - recall: 0.0605 - val_loss: 1.6470 - val_accuracy: 0.3671 - val_precision: 0.7148 - val_recall: 0.0575\n",
      "\n",
      "Epoch 00049: val_accuracy did not improve from 0.37065\n",
      "Epoch 50/100\n",
      "451/451 [==============================] - 185s 410ms/step - loss: 1.6998 - accuracy: 0.3165 - precision: 0.6383 - recall: 0.0544 - val_loss: 1.6526 - val_accuracy: 0.3620 - val_precision: 0.7241 - val_recall: 0.0553\n",
      "\n",
      "Epoch 00050: val_accuracy did not improve from 0.37065\n",
      "Epoch 51/100\n",
      "451/451 [==============================] - 185s 410ms/step - loss: 1.6978 - accuracy: 0.3155 - precision: 0.6212 - recall: 0.0486 - val_loss: 1.6537 - val_accuracy: 0.3517 - val_precision: 0.6629 - val_recall: 0.0829\n",
      "\n",
      "Epoch 00051: val_accuracy did not improve from 0.37065\n",
      "Epoch 52/100\n",
      "451/451 [==============================] - 188s 418ms/step - loss: 1.6940 - accuracy: 0.3172 - precision: 0.6272 - recall: 0.0558 - val_loss: 1.6672 - val_accuracy: 0.3579 - val_precision: 0.7560 - val_recall: 0.0355\n",
      "\n",
      "Epoch 00052: val_accuracy did not improve from 0.37065\n",
      "Epoch 53/100\n",
      "451/451 [==============================] - 185s 411ms/step - loss: 1.6995 - accuracy: 0.3208 - precision: 0.6396 - recall: 0.0454 - val_loss: 1.6660 - val_accuracy: 0.3436 - val_precision: 0.7091 - val_recall: 0.0331\n",
      "\n",
      "Epoch 00053: val_accuracy did not improve from 0.37065\n",
      "Epoch 54/100\n",
      "451/451 [==============================] - 185s 410ms/step - loss: 1.6945 - accuracy: 0.3156 - precision: 0.6090 - recall: 0.0523 - val_loss: 1.6582 - val_accuracy: 0.3619 - val_precision: 0.7466 - val_recall: 0.0392\n",
      "\n",
      "Epoch 00054: val_accuracy did not improve from 0.37065\n",
      "Epoch 55/100\n",
      "451/451 [==============================] - 185s 411ms/step - loss: 1.6849 - accuracy: 0.3214 - precision: 0.6320 - recall: 0.0666 - val_loss: 1.6327 - val_accuracy: 0.3716 - val_precision: 0.7215 - val_recall: 0.0645\n",
      "\n",
      "Epoch 00055: val_accuracy improved from 0.37065 to 0.37164, saving model to ./best_weights.hdf5\n",
      "Epoch 56/100\n",
      "451/451 [==============================] - 185s 410ms/step - loss: 1.6818 - accuracy: 0.3205 - precision: 0.6222 - recall: 0.0604 - val_loss: 1.6483 - val_accuracy: 0.3582 - val_precision: 0.7000 - val_recall: 0.0604\n",
      "\n",
      "Epoch 00056: val_accuracy did not improve from 0.37164\n",
      "Epoch 57/100\n",
      "451/451 [==============================] - 185s 411ms/step - loss: 1.6807 - accuracy: 0.3251 - precision: 0.6302 - recall: 0.0686 - val_loss: 1.6340 - val_accuracy: 0.3598 - val_precision: 0.6636 - val_recall: 0.0930\n",
      "\n",
      "Epoch 00057: val_accuracy did not improve from 0.37164\n",
      "Epoch 58/100\n",
      "451/451 [==============================] - 185s 411ms/step - loss: 1.6744 - accuracy: 0.3243 - precision: 0.6438 - recall: 0.0747 - val_loss: 1.6419 - val_accuracy: 0.3630 - val_precision: 0.7194 - val_recall: 0.0592\n",
      "\n",
      "Epoch 00058: val_accuracy did not improve from 0.37164\n",
      "Epoch 59/100\n",
      "451/451 [==============================] - 185s 411ms/step - loss: 1.6602 - accuracy: 0.3352 - precision: 0.6299 - recall: 0.0754 - val_loss: 1.6507 - val_accuracy: 0.3609 - val_precision: 0.7372 - val_recall: 0.0345\n",
      "\n",
      "Epoch 00059: val_accuracy did not improve from 0.37164\n",
      "Epoch 60/100\n",
      "451/451 [==============================] - 185s 411ms/step - loss: 1.6689 - accuracy: 0.3279 - precision: 0.6463 - recall: 0.0761 - val_loss: 1.6401 - val_accuracy: 0.3664 - val_precision: 0.7310 - val_recall: 0.0504\n",
      "\n",
      "Epoch 00060: val_accuracy did not improve from 0.37164\n",
      "Epoch 61/100\n",
      "451/451 [==============================] - 185s 411ms/step - loss: 1.6707 - accuracy: 0.3310 - precision: 0.6336 - recall: 0.0726 - val_loss: 1.6512 - val_accuracy: 0.3576 - val_precision: 0.6988 - val_recall: 0.0729\n",
      "\n",
      "Epoch 00061: val_accuracy did not improve from 0.37164\n",
      "Epoch 62/100\n",
      "451/451 [==============================] - 185s 411ms/step - loss: 1.6770 - accuracy: 0.3267 - precision: 0.6428 - recall: 0.0707 - val_loss: 1.6372 - val_accuracy: 0.3631 - val_precision: 0.6803 - val_recall: 0.0846\n",
      "\n",
      "Epoch 00062: val_accuracy did not improve from 0.37164\n",
      "Epoch 63/100\n",
      "451/451 [==============================] - 185s 411ms/step - loss: 1.6757 - accuracy: 0.3303 - precision: 0.6358 - recall: 0.0712 - val_loss: 1.6402 - val_accuracy: 0.3634 - val_precision: 0.7310 - val_recall: 0.0434\n",
      "\n",
      "Epoch 00063: val_accuracy did not improve from 0.37164\n",
      "Epoch 64/100\n",
      "451/451 [==============================] - 185s 411ms/step - loss: 1.6711 - accuracy: 0.3282 - precision: 0.6547 - recall: 0.0739 - val_loss: 1.6495 - val_accuracy: 0.3572 - val_precision: 0.7696 - val_recall: 0.0402\n",
      "\n",
      "Epoch 00064: val_accuracy did not improve from 0.37164\n",
      "Epoch 65/100\n",
      "451/451 [==============================] - 185s 411ms/step - loss: 1.6645 - accuracy: 0.3318 - precision: 0.6501 - recall: 0.0741 - val_loss: 1.6452 - val_accuracy: 0.3647 - val_precision: 0.7622 - val_recall: 0.0376\n",
      "\n",
      "Epoch 00065: val_accuracy did not improve from 0.37164\n",
      "Epoch 66/100\n",
      "451/451 [==============================] - 185s 411ms/step - loss: 1.6651 - accuracy: 0.3338 - precision: 0.6337 - recall: 0.0772 - val_loss: 1.6501 - val_accuracy: 0.3613 - val_precision: 0.7453 - val_recall: 0.0451\n",
      "\n",
      "Epoch 00066: val_accuracy did not improve from 0.37164\n",
      "Epoch 67/100\n",
      "451/451 [==============================] - 185s 410ms/step - loss: 1.6695 - accuracy: 0.3319 - precision: 0.6370 - recall: 0.0742 - val_loss: 1.6377 - val_accuracy: 0.3709 - val_precision: 0.7315 - val_recall: 0.0463\n",
      "\n",
      "Epoch 00067: val_accuracy did not improve from 0.37164\n",
      "Epoch 68/100\n",
      "451/451 [==============================] - 185s 411ms/step - loss: 1.6645 - accuracy: 0.3332 - precision: 0.6478 - recall: 0.0748 - val_loss: 1.6702 - val_accuracy: 0.3457 - val_precision: 0.7659 - val_recall: 0.0324\n",
      "\n",
      "Epoch 00068: val_accuracy did not improve from 0.37164\n",
      "Epoch 69/100\n",
      "451/451 [==============================] - 185s 410ms/step - loss: 1.6729 - accuracy: 0.3243 - precision: 0.6389 - recall: 0.0736 - val_loss: 1.6368 - val_accuracy: 0.3684 - val_precision: 0.7522 - val_recall: 0.0481\n",
      "\n",
      "Epoch 00069: val_accuracy did not improve from 0.37164\n",
      "Epoch 70/100\n",
      "451/451 [==============================] - 185s 410ms/step - loss: 1.6698 - accuracy: 0.3302 - precision: 0.6487 - recall: 0.0724 - val_loss: 1.6509 - val_accuracy: 0.3643 - val_precision: 0.7489 - val_recall: 0.0485\n",
      "\n",
      "Epoch 00070: val_accuracy did not improve from 0.37164\n",
      "Epoch 00070: early stopping\n"
     ]
    }
   ],
   "source": [
    "model_history=model.fit(train_generator,\n",
    "                        validation_data=validation_generator,\n",
    "                        epochs = 100,\n",
    "                        callbacks = callback_list,\n",
    "                        verbose = 1)"
   ]
  },
  {
   "cell_type": "code",
   "execution_count": 30,
   "id": "improving-breed",
   "metadata": {
    "execution": {
     "iopub.execute_input": "2021-10-01T17:11:54.055813Z",
     "iopub.status.busy": "2021-10-01T17:11:54.055243Z",
     "iopub.status.idle": "2021-10-01T17:12:30.591287Z",
     "shell.execute_reply": "2021-10-01T17:12:30.590835Z",
     "shell.execute_reply.started": "2021-10-01T13:21:20.952181Z"
    },
    "papermill": {
     "duration": 46.292896,
     "end_time": "2021-10-01T17:12:30.591446",
     "exception": false,
     "start_time": "2021-10-01T17:11:44.298550",
     "status": "completed"
    },
    "tags": []
   },
   "outputs": [
    {
     "name": "stdout",
     "output_type": "stream",
     "text": [
      "111/111 [==============================] - 36s 328ms/step - loss: 1.6484 - accuracy: 0.3598 - precision: 0.7413 - recall: 0.0515\n",
      "Test Accuracy: 0.360\n",
      "Test Precision: 0.741\n",
      "Test Recall: 0.052\n",
      "Test loss: 1.648\n"
     ]
    }
   ],
   "source": [
    "loss, accuracy , precision,recall=model.evaluate(validation_generator)\n",
    "print('Test Accuracy: %.3f' % accuracy)\n",
    "print('Test Precision: %.3f' % precision)\n",
    "print('Test Recall: %.3f' % recall)\n",
    "print('Test loss: %.3f' % loss)"
   ]
  },
  {
   "cell_type": "markdown",
   "id": "wrong-cylinder",
   "metadata": {
    "papermill": {
     "duration": 10.324526,
     "end_time": "2021-10-01T17:12:50.768650",
     "exception": false,
     "start_time": "2021-10-01T17:12:40.444124",
     "status": "completed"
    },
    "tags": []
   },
   "source": [
    "# feel free to upvote this kernel"
   ]
  }
 ],
 "metadata": {
  "kernelspec": {
   "display_name": "Python 3",
   "language": "python",
   "name": "python3"
  },
  "language_info": {
   "codemirror_mode": {
    "name": "ipython",
    "version": 3
   },
   "file_extension": ".py",
   "mimetype": "text/x-python",
   "name": "python",
   "nbconvert_exporter": "python",
   "pygments_lexer": "ipython3",
   "version": "3.7.10"
  },
  "papermill": {
   "default_parameters": {},
   "duration": 13753.808238,
   "end_time": "2021-10-01T17:13:02.987877",
   "environment_variables": {},
   "exception": null,
   "input_path": "__notebook__.ipynb",
   "output_path": "__notebook__.ipynb",
   "parameters": {},
   "start_time": "2021-10-01T13:23:49.179639",
   "version": "2.3.3"
  }
 },
 "nbformat": 4,
 "nbformat_minor": 5
}
